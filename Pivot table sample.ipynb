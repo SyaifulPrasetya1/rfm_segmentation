{
 "cells": [
  {
   "cell_type": "code",
   "execution_count": 1,
   "metadata": {},
   "outputs": [
    {
     "name": "stdout",
     "output_type": "stream",
     "text": [
      "Year        2019    2020    2021\n",
      "City                            \n",
      "Chicago   2000.0  1500.0     NaN\n",
      "Miami        NaN  3000.0     NaN\n",
      "New York  1000.0     NaN  2500.0\n"
     ]
    }
   ],
   "source": [
    "import pandas as pd\n",
    "\n",
    "# Create a sample dataset\n",
    "data = {'City': ['New York', 'Chicago', 'Miami', 'Chicago', 'New York'],\n",
    "        'Year': [2019, 2019, 2020, 2020, 2021],\n",
    "        'Sales': [1000, 2000, 3000, 1500, 2500]}\n",
    "\n",
    "df = pd.DataFrame(data)\n",
    "\n",
    "# Create the pivot table\n",
    "pivot_table = pd.pivot_table(df, values='Sales', index='City', columns='Year', aggfunc='sum')\n",
    "\n",
    "print(pivot_table)\n"
   ]
  },
  {
   "cell_type": "code",
   "execution_count": 2,
   "metadata": {},
   "outputs": [
    {
     "name": "stdout",
     "output_type": "stream",
     "text": [
      "Index(['City', 'Year', 'Sales'], dtype='object')\n"
     ]
    }
   ],
   "source": [
    "# print coloumn names\n",
    "print(df.columns)"
   ]
  },
  {
   "cell_type": "code",
   "execution_count": 1,
   "metadata": {},
   "outputs": [
    {
     "name": "stdout",
     "output_type": "stream",
     "text": [
      "Initialized empty Git repository in C:/Users/GADA/PycharmProjects/pythonProject/django/data_science/.git/\n"
     ]
    },
    {
     "name": "stderr",
     "output_type": "stream",
     "text": [
      "warning: in the working copy of 'Pivot table sample.ipynb', LF will be replaced by CRLF the next time Git touches it\n",
      "warning: in the working copy of 'RFM Kanggle Dataset.ipynb', LF will be replaced by CRLF the next time Git touches it\n"
     ]
    },
    {
     "name": "stdout",
     "output_type": "stream",
     "text": [
      "[master (root-commit) 91d4b4c] first commit\n",
      " 3 files changed, 542284 insertions(+)\n",
      " create mode 100644 Pivot table sample.ipynb\n",
      " create mode 100644 RFM Kanggle Dataset.ipynb\n",
      " create mode 100644 data.csv\n"
     ]
    },
    {
     "name": "stderr",
     "output_type": "stream",
     "text": [
      "usage: git remote add [<options>] <name> <url>\n",
      "\n",
      "    -f, --fetch           fetch the remote branches\n",
      "    --tags                import all tags and associated objects when fetching\n",
      "                          or do not fetch any tag at all (--no-tags)\n",
      "    -t, --track <branch>  branch(es) to track\n",
      "    -m, --master <branch>\n",
      "                          master branch\n",
      "    --mirror[=(push|fetch)]\n",
      "                          set up remote as a mirror to push to or fetch from\n",
      "\n",
      "fatal: 'origin' does not appear to be a git repository\n",
      "fatal: Could not read from remote repository.\n",
      "\n",
      "Please make sure you have the correct access rights\n",
      "and the repository exists.\n"
     ]
    }
   ],
   "source": [
    "# push to github\n",
    "!git init\n",
    "!git add .\n",
    "!git commit -m \"first commit\"\n",
    "!git remote add origin\n",
    "!git push -u origin master\n"
   ]
  }
 ],
 "metadata": {
  "kernelspec": {
   "display_name": "Python 3",
   "language": "python",
   "name": "python3"
  },
  "language_info": {
   "codemirror_mode": {
    "name": "ipython",
    "version": 3
   },
   "file_extension": ".py",
   "mimetype": "text/x-python",
   "name": "python",
   "nbconvert_exporter": "python",
   "pygments_lexer": "ipython3",
   "version": "3.11.0"
  },
  "orig_nbformat": 4
 },
 "nbformat": 4,
 "nbformat_minor": 2
}
