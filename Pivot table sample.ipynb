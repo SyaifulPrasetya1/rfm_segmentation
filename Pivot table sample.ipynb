{
 "cells": [
  {
   "cell_type": "code",
   "execution_count": 1,
   "metadata": {},
   "outputs": [
    {
     "name": "stdout",
     "output_type": "stream",
     "text": [
      "Year        2019    2020    2021\n",
      "City                            \n",
      "Chicago   2000.0  1500.0     NaN\n",
      "Miami        NaN  3000.0     NaN\n",
      "New York  1000.0     NaN  2500.0\n"
     ]
    }
   ],
   "source": [
    "import pandas as pd\n",
    "\n",
    "# Create a sample dataset\n",
    "data = {'City': ['New York', 'Chicago', 'Miami', 'Chicago', 'New York'],\n",
    "        'Year': [2019, 2019, 2020, 2020, 2021],\n",
    "        'Sales': [1000, 2000, 3000, 1500, 2500]}\n",
    "\n",
    "df = pd.DataFrame(data)\n",
    "\n",
    "# Create the pivot table\n",
    "pivot_table = pd.pivot_table(df, values='Sales', index='City', columns='Year', aggfunc='sum')\n",
    "\n",
    "print(pivot_table)\n"
   ]
  },
  {
   "cell_type": "code",
   "execution_count": 2,
   "metadata": {},
   "outputs": [
    {
     "name": "stdout",
     "output_type": "stream",
     "text": [
      "Index(['City', 'Year', 'Sales'], dtype='object')\n"
     ]
    }
   ],
   "source": [
    "# print coloumn names\n",
    "print(df.columns)"
   ]
  }
 ],
 "metadata": {
  "kernelspec": {
   "display_name": "Python 3",
   "language": "python",
   "name": "python3"
  },
  "language_info": {
   "codemirror_mode": {
    "name": "ipython",
    "version": 3
   },
   "file_extension": ".py",
   "mimetype": "text/x-python",
   "name": "python",
   "nbconvert_exporter": "python",
   "pygments_lexer": "ipython3",
   "version": "3.11.0"
  },
  "orig_nbformat": 4
 },
 "nbformat": 4,
 "nbformat_minor": 2
}
